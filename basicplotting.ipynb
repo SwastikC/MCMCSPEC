{
 "cells": [
  {
   "cell_type": "code",
   "execution_count": 1,
   "metadata": {},
   "outputs": [
    {
     "data": {
      "image/png": "[encoded data removed]",
      "text/plain": [
       "<Figure size 432x288 with 2 Axes>"
      ]
     },
     "metadata": {
      "needs_background": "light"
     },
     "output_type": "display_data"
    }
   ],
   "source": [
    "import matplotlib.pyplot as plt\n",
    "cm = plt.cm.get_cmap('RdYlBu')\n",
    "xy = range(20)\n",
    "z = xy\n",
    "sc = plt.scatter(xy, xy, c=z, vmin=0, vmax=20, s=35, cmap=cm)\n",
    "plt.colorbar(sc)\n",
    "plt.show()"
   ]
  },
  {
   "cell_type": "code",
   "execution_count": 2,
   "metadata": {},
   "outputs": [
    {
     "name": "stdout",
     "output_type": "stream",
     "text": [
      "[[6, 0, 4, 1], [6, 0, 3, 1]]\n"
     ]
    }
   ],
   "source": [
    "my_list = [] \n",
    "another_list = [6, 0, 4, 1] \n",
    "my_list.append(another_list) \n",
    "another_list = [6, 0, 3, 1] \n",
    "my_list.append(another_list) \n",
    "\n",
    "\n",
    "print (my_list)"
   ]
  },
  {
   "cell_type": "code",
   "execution_count": 6,
   "metadata": {},
   "outputs": [
    {
     "ename": "FileNotFoundError",
     "evalue": "[Errno 2] No such file or directory: '/home/swastik/Desktop/HRD/rvl.tbl'",
     "output_type": "error",
     "traceback": [
      "\u001b[0;31m---------------------------------------------------------------------------\u001b[0m",
      "\u001b[0;31mFileNotFoundError\u001b[0m                         Traceback (most recent call last)",
      "\u001b[0;32m<ipython-input-6-b33d3fdc5b79>\u001b[0m in \u001b[0;36m<module>\u001b[0;34m\u001b[0m\n\u001b[1;32m     18\u001b[0m \u001b[0;31m# data6.values = ascii.read(\"/home/swastik/Desktop/dk.tbl\")\u001b[0m\u001b[0;34m\u001b[0m\u001b[0;34m\u001b[0m\u001b[0;34m\u001b[0m\u001b[0m\n\u001b[1;32m     19\u001b[0m \u001b[0;31m# data1 = ascii.read(\"/home/swastik/Desktop/HRD/imag.tbl\")\u001b[0m\u001b[0;34m\u001b[0m\u001b[0;34m\u001b[0m\u001b[0;34m\u001b[0m\u001b[0m\n\u001b[0;32m---> 20\u001b[0;31m \u001b[0mdata3\u001b[0m \u001b[0;34m=\u001b[0m \u001b[0mascii\u001b[0m\u001b[0;34m.\u001b[0m\u001b[0mread\u001b[0m\u001b[0;34m(\u001b[0m\u001b[0;34m\"/home/swastik/Desktop/HRD/rvl.tbl\"\u001b[0m\u001b[0;34m)\u001b[0m\u001b[0;34m\u001b[0m\u001b[0;34m\u001b[0m\u001b[0m\n\u001b[0m\u001b[1;32m     21\u001b[0m \u001b[0mdata2\u001b[0m \u001b[0;34m=\u001b[0m \u001b[0mascii\u001b[0m\u001b[0;34m.\u001b[0m\u001b[0mread\u001b[0m\u001b[0;34m(\u001b[0m\u001b[0;34m\"/home/swastik/Desktop/HRD/trans.tbl\"\u001b[0m\u001b[0;34m)\u001b[0m\u001b[0;34m\u001b[0m\u001b[0;34m\u001b[0m\u001b[0m\n\u001b[1;32m     22\u001b[0m \u001b[0mdata4\u001b[0m \u001b[0;34m=\u001b[0m \u001b[0mascii\u001b[0m\u001b[0;34m.\u001b[0m\u001b[0mread\u001b[0m\u001b[0;34m(\u001b[0m\u001b[0;34m\"/home/swastik/Desktop/HRD/ttv.tbl\"\u001b[0m\u001b[0;34m)\u001b[0m\u001b[0;34m\u001b[0m\u001b[0;34m\u001b[0m\u001b[0m\n",
      "\u001b[0;32m~/anaconda3/lib/python3.8/site-packages/astropy/io/ascii/ui.py\u001b[0m in \u001b[0;36mread\u001b[0;34m(table, guess, **kwargs)\u001b[0m\n\u001b[1;32m    285\u001b[0m         \u001b[0;31m# through below to the non-guess way so that any problems result in a\u001b[0m\u001b[0;34m\u001b[0m\u001b[0;34m\u001b[0m\u001b[0;34m\u001b[0m\u001b[0m\n\u001b[1;32m    286\u001b[0m         \u001b[0;31m# more useful traceback.\u001b[0m\u001b[0;34m\u001b[0m\u001b[0;34m\u001b[0m\u001b[0;34m\u001b[0m\u001b[0m\n\u001b[0;32m--> 287\u001b[0;31m         \u001b[0mdat\u001b[0m \u001b[0;34m=\u001b[0m \u001b[0m_guess\u001b[0m\u001b[0;34m(\u001b[0m\u001b[0mtable\u001b[0m\u001b[0;34m,\u001b[0m \u001b[0mnew_kwargs\u001b[0m\u001b[0;34m,\u001b[0m \u001b[0mformat\u001b[0m\u001b[0;34m,\u001b[0m \u001b[0mfast_reader\u001b[0m\u001b[0;34m)\u001b[0m\u001b[0;34m\u001b[0m\u001b[0;34m\u001b[0m\u001b[0m\n\u001b[0m\u001b[1;32m    288\u001b[0m         \u001b[0;32mif\u001b[0m \u001b[0mdat\u001b[0m \u001b[0;32mis\u001b[0m \u001b[0;32mNone\u001b[0m\u001b[0;34m:\u001b[0m\u001b[0;34m\u001b[0m\u001b[0;34m\u001b[0m\u001b[0m\n\u001b[1;32m    289\u001b[0m             \u001b[0mguess\u001b[0m \u001b[0;34m=\u001b[0m \u001b[0;32mFalse\u001b[0m\u001b[0;34m\u001b[0m\u001b[0;34m\u001b[0m\u001b[0m\n",
      "\u001b[0;32m~/anaconda3/lib/python3.8/site-packages/astropy/io/ascii/ui.py\u001b[0m in \u001b[0;36m_guess\u001b[0;34m(table, read_kwargs, format, fast_reader)\u001b[0m\n\u001b[1;32m    445\u001b[0m \u001b[0;34m\u001b[0m\u001b[0m\n\u001b[1;32m    446\u001b[0m             \u001b[0mreader\u001b[0m\u001b[0;34m.\u001b[0m\u001b[0mguessing\u001b[0m \u001b[0;34m=\u001b[0m \u001b[0;32mTrue\u001b[0m\u001b[0;34m\u001b[0m\u001b[0;34m\u001b[0m\u001b[0m\n\u001b[0;32m--> 447\u001b[0;31m             \u001b[0mdat\u001b[0m \u001b[0;34m=\u001b[0m \u001b[0mreader\u001b[0m\u001b[0;34m.\u001b[0m\u001b[0mread\u001b[0m\u001b[0;34m(\u001b[0m\u001b[0mtable\u001b[0m\u001b[0;34m)\u001b[0m\u001b[0;34m\u001b[0m\u001b[0;34m\u001b[0m\u001b[0m\n\u001b[0m\u001b[1;32m    448\u001b[0m             _read_trace.append({'kwargs': copy.deepcopy(guess_kwargs),\n\u001b[1;32m    449\u001b[0m                                 \u001b[0;34m'Reader'\u001b[0m\u001b[0;34m:\u001b[0m \u001b[0mreader\u001b[0m\u001b[0;34m.\u001b[0m\u001b[0m__class__\u001b[0m\u001b[0;34m,\u001b[0m\u001b[0;34m\u001b[0m\u001b[0;34m\u001b[0m\u001b[0m\n",
      "\u001b[0;32m~/anaconda3/lib/python3.8/site-packages/astropy/io/ascii/core.py\u001b[0m in \u001b[0;36mread\u001b[0;34m(self, table)\u001b[0m\n\u001b[1;32m   1163\u001b[0m \u001b[0;34m\u001b[0m\u001b[0m\n\u001b[1;32m   1164\u001b[0m         \u001b[0;31m# Get a list of the lines (rows) in the table\u001b[0m\u001b[0;34m\u001b[0m\u001b[0;34m\u001b[0m\u001b[0;34m\u001b[0m\u001b[0m\n\u001b[0;32m-> 1165\u001b[0;31m         \u001b[0mself\u001b[0m\u001b[0;34m.\u001b[0m\u001b[0mlines\u001b[0m \u001b[0;34m=\u001b[0m \u001b[0mself\u001b[0m\u001b[0;34m.\u001b[0m\u001b[0minputter\u001b[0m\u001b[0;34m.\u001b[0m\u001b[0mget_lines\u001b[0m\u001b[0;34m(\u001b[0m\u001b[0mtable\u001b[0m\u001b[0;34m)\u001b[0m\u001b[0;34m\u001b[0m\u001b[0;34m\u001b[0m\u001b[0m\n\u001b[0m\u001b[1;32m   1166\u001b[0m \u001b[0;34m\u001b[0m\u001b[0m\n\u001b[1;32m   1167\u001b[0m         \u001b[0;31m# Set self.data.data_lines to a slice of lines contain the data rows\u001b[0m\u001b[0;34m\u001b[0m\u001b[0;34m\u001b[0m\u001b[0;34m\u001b[0m\u001b[0m\n",
      "\u001b[0;32m~/anaconda3/lib/python3.8/site-packages/astropy/io/ascii/core.py\u001b[0m in \u001b[0;36mget_lines\u001b[0;34m(self, table)\u001b[0m\n\u001b[1;32m    302\u001b[0m             if (hasattr(table, 'read')\n\u001b[1;32m    303\u001b[0m                     or ('\\n' not in table + '' and '\\r' not in table + '')):\n\u001b[0;32m--> 304\u001b[0;31m                 with get_readable_fileobj(table,\n\u001b[0m\u001b[1;32m    305\u001b[0m                                           encoding=self.encoding) as fileobj:\n\u001b[1;32m    306\u001b[0m                     \u001b[0mtable\u001b[0m \u001b[0;34m=\u001b[0m \u001b[0mfileobj\u001b[0m\u001b[0;34m.\u001b[0m\u001b[0mread\u001b[0m\u001b[0;34m(\u001b[0m\u001b[0;34m)\u001b[0m\u001b[0;34m\u001b[0m\u001b[0;34m\u001b[0m\u001b[0m\n",
      "\u001b[0;32m~/anaconda3/lib/python3.8/contextlib.py\u001b[0m in \u001b[0;36m__enter__\u001b[0;34m(self)\u001b[0m\n\u001b[1;32m    111\u001b[0m         \u001b[0;32mdel\u001b[0m \u001b[0mself\u001b[0m\u001b[0;34m.\u001b[0m\u001b[0margs\u001b[0m\u001b[0;34m,\u001b[0m \u001b[0mself\u001b[0m\u001b[0;34m.\u001b[0m\u001b[0mkwds\u001b[0m\u001b[0;34m,\u001b[0m \u001b[0mself\u001b[0m\u001b[0;34m.\u001b[0m\u001b[0mfunc\u001b[0m\u001b[0;34m\u001b[0m\u001b[0;34m\u001b[0m\u001b[0m\n\u001b[1;32m    112\u001b[0m         \u001b[0;32mtry\u001b[0m\u001b[0;34m:\u001b[0m\u001b[0;34m\u001b[0m\u001b[0;34m\u001b[0m\u001b[0m\n\u001b[0;32m--> 113\u001b[0;31m             \u001b[0;32mreturn\u001b[0m \u001b[0mnext\u001b[0m\u001b[0;34m(\u001b[0m\u001b[0mself\u001b[0m\u001b[0;34m.\u001b[0m\u001b[0mgen\u001b[0m\u001b[0;34m)\u001b[0m\u001b[0;34m\u001b[0m\u001b[0;34m\u001b[0m\u001b[0m\n\u001b[0m\u001b[1;32m    114\u001b[0m         \u001b[0;32mexcept\u001b[0m \u001b[0mStopIteration\u001b[0m\u001b[0;34m:\u001b[0m\u001b[0;34m\u001b[0m\u001b[0;34m\u001b[0m\u001b[0m\n\u001b[1;32m    115\u001b[0m             \u001b[0;32mraise\u001b[0m \u001b[0mRuntimeError\u001b[0m\u001b[0;34m(\u001b[0m\u001b[0;34m\"generator didn't yield\"\u001b[0m\u001b[0;34m)\u001b[0m \u001b[0;32mfrom\u001b[0m \u001b[0;32mNone\u001b[0m\u001b[0;34m\u001b[0m\u001b[0;34m\u001b[0m\u001b[0m\n",
      "\u001b[0;32m~/anaconda3/lib/python3.8/site-packages/astropy/utils/data.py\u001b[0m in \u001b[0;36mget_readable_fileobj\u001b[0;34m(name_or_obj, encoding, cache, show_progress, remote_timeout, sources, http_headers)\u001b[0m\n\u001b[1;32m    235\u001b[0m                 \u001b[0mtimeout\u001b[0m\u001b[0;34m=\u001b[0m\u001b[0mremote_timeout\u001b[0m\u001b[0;34m,\u001b[0m \u001b[0msources\u001b[0m\u001b[0;34m=\u001b[0m\u001b[0msources\u001b[0m\u001b[0;34m,\u001b[0m\u001b[0;34m\u001b[0m\u001b[0;34m\u001b[0m\u001b[0m\n\u001b[1;32m    236\u001b[0m                 http_headers=http_headers)\n\u001b[0;32m--> 237\u001b[0;31m         \u001b[0mfileobj\u001b[0m \u001b[0;34m=\u001b[0m \u001b[0mio\u001b[0m\u001b[0;34m.\u001b[0m\u001b[0mFileIO\u001b[0m\u001b[0;34m(\u001b[0m\u001b[0mname_or_obj\u001b[0m\u001b[0;34m,\u001b[0m \u001b[0;34m'r'\u001b[0m\u001b[0;34m)\u001b[0m\u001b[0;34m\u001b[0m\u001b[0;34m\u001b[0m\u001b[0m\n\u001b[0m\u001b[1;32m    238\u001b[0m         \u001b[0;32mif\u001b[0m \u001b[0mis_url\u001b[0m \u001b[0;32mand\u001b[0m \u001b[0;32mnot\u001b[0m \u001b[0mcache\u001b[0m\u001b[0;34m:\u001b[0m\u001b[0;34m\u001b[0m\u001b[0;34m\u001b[0m\u001b[0m\n\u001b[1;32m    239\u001b[0m             \u001b[0mdelete_fds\u001b[0m\u001b[0;34m.\u001b[0m\u001b[0mappend\u001b[0m\u001b[0;34m(\u001b[0m\u001b[0mfileobj\u001b[0m\u001b[0;34m)\u001b[0m\u001b[0;34m\u001b[0m\u001b[0;34m\u001b[0m\u001b[0m\n",
      "\u001b[0;31mFileNotFoundError\u001b[0m: [Errno 2] No such file or directory: '/home/swastik/Desktop/HRD/rvl.tbl'"
     ]
    }
   ],
   "source": [
    "import numpy as np\n",
    "import pandas as pd\n",
    "import matplotlib.pyplot as plt\n",
    "from matplotlib.ticker import ScalarFormatter\n",
    "import matplotlib.ticker as mtick\n",
    "\n",
    "from pylab import *\n",
    "\n",
    "# x = df['fpl_discmethod'].values\n",
    "# y = df['fst_teff'].values\n",
    "# z = df['fst_lum'].values\n",
    "from astropy.io import ascii\n",
    "# data1.values = ascii.read(\"/home/swastik/Desktop/img.tbl\")  \n",
    "# data2.values = ascii.read(\"/home/swastik/Desktop/tra.tbl\")  \n",
    "# data3.values = ascii.read(\"/home/swastik/Desktop/rv.tbl\") \n",
    "# data4.values = ascii.read(\"/home/swastik/Desktop/etv.tbl\")  \n",
    "# data5.values = ascii.read(\"/home/swastik/Desktop/obl.tbl\")  \n",
    "# data6.values = ascii.read(\"/home/swastik/Desktop/dk.tbl\")  \n",
    "data1 = ascii.read(\"/home/swastik/Desktop/HRD/imag.tbl\")  \n",
    "data3 = ascii.read(\"/home/swastik/Desktop/HRD/rvl.tbl\")  \n",
    "data2 = ascii.read(\"/home/swastik/Desktop/HRD/trans.tbl\")  \n",
    "data4 = ascii.read(\"/home/swastik/Desktop/HRD/ttv.tbl\")  \n",
    "data5 = ascii.read(\"/home/swastik/Desktop/HRD/obtm.tbl\")\n",
    "data6 = ascii.read(\"/home/swastik/Desktop/HRD/dskk.tbl\")  \n",
    "data7 = ascii.read(\"/home/swastik/Desktop/HRD/astm.tbl\")  \n",
    "\n",
    "plt.yscale('log')\n",
    "\n",
    "# pltb = plt.scatter(data2['st_teff'],data2['st_lum'],alpha = 0.5)\n",
    "# pltc = plt.scatter(data3['st_teff'],data3['st_lum'],alpha =0.5)\n",
    "# plta = plt.scatter(data1['st_teff'],data1['st_lum'])\n",
    "# pltd = plt.scatter(data4['fst_teff'],data4['fst_lum'])\n",
    "# plte = plt.scatter(data5['fst_teff'],data5['fst_lum'])\n",
    "# pltf = plt.scatter(data6['fst_teff'],data6['fst_lum'])\n",
    "plta =plt.scatter(data3['fpl_smax'],data3['fst_age'],alpha =0.5)\n",
    "pltc =plt.scatter(data1['fpl_smax'],data1['fst_age'])\n",
    "pltb =plt.scatter(data2['fpl_smax'],data2['fst_age'],alpha =0.5)\n",
    "pltd =plt.scatter(data4['fpl_smax'],data4['fst_age'],alpha =0.5)\n",
    "plte =plt.scatter(data5['fpl_smax'],data5['fst_age'],alpha =0.5)\n",
    "pltf =plt.scatter(data6['fpl_smax'],data6['fst_age'],alpha =0.5)\n",
    "pltg =plt.scatter(data7['fpl_smax'],data7['fst_age'],alpha =0.5)\n",
    "\n",
    "# plt.xlim(reversed(plt.xlim())) \n",
    "plt.legend([plta, pltb, pltc,pltd,plte,pltf], [\"Radial Velocity\", \"Transit\",\"Imaging\",\"Timing Variations\",\"Orbital Brightness \\n Modulation\",\"Disk Kinematics\",\"Astrometry\"],loc='lower center',ncol=2,frameon=False)\n",
    "plt.xscale('log')\n",
    "plt.ylim(ymin=0.000001,ymax=50)\n",
    "# plt.title('HR Diagram for Planet hosting stars');\n",
    "plt.ylabel('Stellar Age[Gyr]')\n",
    "plt.xlabel('Orbital Semi-Major Axis[au]')\n",
    "ax = gca().xaxis\n",
    "ax.set_major_formatter(mtick.FormatStrFormatter('%.2f'))\n",
    "plt.show()\n",
    "\n"
   ]
  },
  {
   "cell_type": "code",
   "execution_count": null,
   "metadata": {},
   "outputs": [],
   "source": [
    "import numpy\n",
    "a=[]\n",
    "b=[]\n",
    "for i in range(1,101):\n",
    "    a.append(i)\n",
    "for j in range(1,101):\n",
    "    b.append(j)\n",
    "numpy.savetxt('band.txt',numpy.c_[a,b])"
   ]
  },
  {
   "cell_type": "code",
   "execution_count": 4,
   "metadata": {},
   "outputs": [
    {
     "ename": "SyntaxError",
     "evalue": "invalid syntax (<ipython-input-4-d0b8fb6105c9>, line 2)",
     "output_type": "error",
     "traceback": [
      "\u001b[0;36m  File \u001b[0;32m\"<ipython-input-4-d0b8fb6105c9>\"\u001b[0;36m, line \u001b[0;32m2\u001b[0m\n\u001b[0;31m    pass = input(\"Enter\")\u001b[0m\n\u001b[0m         ^\u001b[0m\n\u001b[0;31mSyntaxError\u001b[0m\u001b[0;31m:\u001b[0m invalid syntax\n"
     ]
    }
   ],
   "source": [
    "import hashlib\n",
    "pass = input(\"Enter\")"
   ]
  },
  {
   "cell_type": "code",
   "execution_count": null,
   "metadata": {},
   "outputs": [],
   "source": [
    "import numpy as np\n",
    "import pandas as pd\n",
    "import matplotlib.pyplot as plt\n",
    "from matplotlib.ticker import ScalarFormatter\n",
    "import matplotlib.ticker as mtick\n",
    "%matplotlib inline\n",
    "import os\n",
    "import sys\n",
    "import matplotlib.patches as mpatches\n",
    "\n",
    "read_mist_models = '/home/swastik'\n",
    "sys.path.insert(0, os.path.abspath(read_mist_models))\n",
    "import read_mist_models\n",
    "\n",
    "from pylab import *\n",
    "from astropy.io import ascii\n",
    "data1 = ascii.read(\"/home/swastik/Desktop/Paper/other.tbl\")  \n",
    "data2 = ascii.read(\"/home/swastik/Desktop/Paper/img.tbl\")  \n",
    "data3 = ascii.read(\"/home/swastik/Desktop/Paper/img1.tbl\") \n",
    "plt1 = pd.read_csv('isoP7.csv',delimiter='\\t')\n",
    "plt2 = pd.read_csv('isoP8.csv',delimiter='\\t')\n",
    "plt3 = pd.read_csv('isoP9.csv',delimiter='\\t')\n",
    "plt4 = pd.read_csv('isoN7.csv',delimiter='\\t')\n",
    "plt5 = pd.read_csv('isoN8.csv',delimiter='\\t')\n",
    "plt6 = pd.read_csv('isoN9.csv',delimiter='\\t')\n",
    "plt7 = pd.read_csv('iso07.csv',delimiter='\\t')\n",
    "plt8 = pd.read_csv('iso08.csv',delimiter='\\t')\n",
    "plt9 = pd.read_csv('iso09.csv',delimiter='\\t')\n",
    "\n",
    "# plt1.columns = [\"Temp\", \"Lum\"]\n",
    "# plt2.columns = [\"Temp\", \"Lum\"]\n",
    "# plt3.columns = [\"Temp\", \"Lum\"]\n",
    "# plt4.columns = [\"Temp\", \"Lum\"]\n",
    "# plt5.columns = [\"Temp\", \"Lum\"]\n",
    "#plt6.columns = [\"Temp\", \"Lum\"]\n",
    "# plt7.columns = [\"Temp\", \"Lum\"]\n",
    "# plt8.columns = [\"Temp\", \"Lum\"]\n",
    "# plt9.columns = [\"Temp\", \"Lum\"]\n",
    "\n",
    "\n",
    "\n",
    "fig, ax = plt.subplots(1, figsize=(9,6))\n",
    "\n",
    "# ax.set_xscale('log')\n",
    "# ax.set_xlim(xmin=2.7,xmax=5)\n",
    "\n",
    "data1 = data1.filled(0)\n",
    "data1 = data1[data1['fst_teff']!=0.0]\n",
    "data1 = data1[data1['fst_lum']!=0.0]\n",
    "\n",
    "data2 = data2.filled(0)\n",
    "data2 = data2[data2['fst_teff']!=0.0]\n",
    "data2 = data2[data2['fst_lum']!=0.0]\n",
    "\n",
    "data1['fst_teff'] = np.log10(data1['fst_teff'])\n",
    "data2['fst_teff'] = np.log10(data2['fst_teff'])\n",
    "data3['fst_teff'] = np.log10(data3['fst_teff'])\n",
    "plta = plt.scatter(data1['fst_teff'],data1['fst_lum'],marker='s',alpha = 0.2,color='grey')\n",
    "pltb = plt.scatter(data2['fst_teff'],data2['fst_lum'],marker='o',color = 'red')\n",
    "pltc = plt.scatter(data3['fst_teff'],data3['fst_lum'],marker='+',color = 'red')\n",
    "plt.xlabel('log(Teff)')\n",
    "plt.ylabel('log(L)')\n",
    "plt.axis([5.2, 3.25, -4, 6.5])\n",
    "\n",
    "\n",
    "plt.plot(plt1['Temp'],plt1['Lum'])\n",
    "plt.plot(plt2['Temp'],plt2['Lum'])\n",
    "plt.plot(plt3['Temp'],plt3['Lum'])\n",
    "plt.plot(plt4['Temp'],plt4['Lum'])\n",
    "plt.plot(plt5['Temp'],plt5['Lum'])\n",
    "plt.plot(plt6['Temp'],plt6['Lum'])\n",
    "plt.plot(plt7['Temp'],plt7['Lum'])\n",
    "plt.plot(plt8['Temp'],plt8['Lum'])\n",
    "plt.plot(plt9['Temp'],plt9['Lum'])\n",
    "\n",
    "# df = pd.DataFrame(plt9) \n",
    "# df.to_csv('iso09.csv', header=True, index=False,sep='\\t') \n",
    "# plt.plot(plt8['Temp'],plt8['Lum'])\n",
    "\n",
    "# red_patch = mpatches.Patch(color='lime', label='HRD')\n",
    "# plt.legend(handles=[red_patch])\n",
    "\n",
    "# plt.xlim(reversed(plt.xlim())) \n",
    "# plt.ylabel('log $L/L_\\odot$',size=20)\n",
    "# plt.xlabel('$T_{eff}$[K]',size = 20)\n",
    "ax = gca().xaxis\n",
    "ax.set_major_formatter(mtick.FormatStrFormatter('%.1f'))\n",
    "plt.show()\n"
   ]
  },
  {
   "cell_type": "code",
   "execution_count": null,
   "metadata": {},
   "outputs": [],
   "source": []
  },
  {
   "cell_type": "code",
   "execution_count": 11,
   "metadata": {},
   "outputs": [
    {
     "data": {
      "text/html": [
       "<div>\n",
       "<style scoped>\n",
       "    .dataframe tbody tr th:only-of-type {\n",
       "        vertical-align: middle;\n",
       "    }\n",
       "\n",
       "    .dataframe tbody tr th {\n",
       "        vertical-align: top;\n",
       "    }\n",
       "\n",
       "    .dataframe thead th {\n",
       "        text-align: right;\n",
       "    }\n",
       "</style>\n",
       "<table border=\"1\" class=\"dataframe\">\n",
       "  <thead>\n",
       "    <tr style=\"text-align: right;\">\n",
       "      <th></th>\n",
       "      <th>Temp</th>\n",
       "      <th>Lum</th>\n",
       "    </tr>\n",
       "  </thead>\n",
       "  <tbody>\n",
       "    <tr>\n",
       "      <td>0</td>\n",
       "      <td>3.391773</td>\n",
       "      <td>-1.928244</td>\n",
       "    </tr>\n",
       "    <tr>\n",
       "      <td>1</td>\n",
       "      <td>3.394150</td>\n",
       "      <td>-1.912569</td>\n",
       "    </tr>\n",
       "    <tr>\n",
       "      <td>2</td>\n",
       "      <td>3.396480</td>\n",
       "      <td>-1.896908</td>\n",
       "    </tr>\n",
       "    <tr>\n",
       "      <td>3</td>\n",
       "      <td>3.398769</td>\n",
       "      <td>-1.881234</td>\n",
       "    </tr>\n",
       "    <tr>\n",
       "      <td>4</td>\n",
       "      <td>3.401014</td>\n",
       "      <td>-1.865555</td>\n",
       "    </tr>\n",
       "    <tr>\n",
       "      <td>...</td>\n",
       "      <td>...</td>\n",
       "      <td>...</td>\n",
       "    </tr>\n",
       "    <tr>\n",
       "      <td>708</td>\n",
       "      <td>3.506399</td>\n",
       "      <td>5.081550</td>\n",
       "    </tr>\n",
       "    <tr>\n",
       "      <td>709</td>\n",
       "      <td>3.506453</td>\n",
       "      <td>5.081657</td>\n",
       "    </tr>\n",
       "    <tr>\n",
       "      <td>710</td>\n",
       "      <td>3.506494</td>\n",
       "      <td>5.081700</td>\n",
       "    </tr>\n",
       "    <tr>\n",
       "      <td>711</td>\n",
       "      <td>3.506541</td>\n",
       "      <td>5.081719</td>\n",
       "    </tr>\n",
       "    <tr>\n",
       "      <td>712</td>\n",
       "      <td>3.506589</td>\n",
       "      <td>5.081727</td>\n",
       "    </tr>\n",
       "  </tbody>\n",
       "</table>\n",
       "<p>713 rows × 2 columns</p>\n",
       "</div>"
      ],
      "text/plain": [
       "         Temp       Lum\n",
       "0    3.391773 -1.928244\n",
       "1    3.394150 -1.912569\n",
       "2    3.396480 -1.896908\n",
       "3    3.398769 -1.881234\n",
       "4    3.401014 -1.865555\n",
       "..        ...       ...\n",
       "708  3.506399  5.081550\n",
       "709  3.506453  5.081657\n",
       "710  3.506494  5.081700\n",
       "711  3.506541  5.081719\n",
       "712  3.506589  5.081727\n",
       "\n",
       "[713 rows x 2 columns]"
      ]
     },
     "execution_count": 11,
     "metadata": {},
     "output_type": "execute_result"
    }
   ],
   "source": [
    "plt1"
   ]
  },
  {
   "cell_type": "code",
   "execution_count": null,
   "metadata": {},
   "outputs": [],
   "source": []
  },
  {
   "cell_type": "code",
   "execution_count": 7,
   "metadata": {},
   "outputs": [
    {
     "data": {
      "text/plain": [
       "array([[<matplotlib.axes._subplots.AxesSubplot object at 0x7fc58afa3590>,\n",
       "        <matplotlib.axes._subplots.AxesSubplot object at 0x7fc58aeaf8d0>]],\n",
       "      dtype=object)"
      ]
     },
     "execution_count": 7,
     "metadata": {},
     "output_type": "execute_result"
    },
    {
     "data": {
      "image/png": "[encoded data removed]",
      "text/plain": [
       "<Figure size 432x288 with 2 Axes>"
      ]
     },
     "metadata": {
      "needs_background": "light"
     },
     "output_type": "display_data"
    }
   ],
   "source": [
    "plt2.hist()"
   ]
  },
  {
   "cell_type": "code",
   "execution_count": 83,
   "metadata": {},
   "outputs": [],
   "source": [
    "plt9 = plt9[plt9.Lum < 3.80]\n",
    "plt9 = plt9[plt9.Temp < 4.25]\n",
    "\n"
   ]
  },
  {
   "cell_type": "code",
   "execution_count": 84,
   "metadata": {},
   "outputs": [
    {
     "data": {
      "text/plain": [
       "[<matplotlib.lines.Line2D at 0x7fc5897e0b90>]"
      ]
     },
     "execution_count": 84,
     "metadata": {},
     "output_type": "execute_result"
    },
    {
     "data": {
      "image/png": "[encoded data removed]",
      "text/plain": [
       "<Figure size 432x288 with 1 Axes>"
      ]
     },
     "metadata": {
      "needs_background": "light"
     },
     "output_type": "display_data"
    }
   ],
   "source": [
    "plt.plot(plt9['Temp'],plt9['Lum'])\n"
   ]
  },
  {
   "cell_type": "code",
   "execution_count": 44,
   "metadata": {},
   "outputs": [
    {
     "data": {
      "text/plain": [
       "'/home/swastik'"
      ]
     },
     "execution_count": 44,
     "metadata": {},
     "output_type": "execute_result"
    }
   ],
   "source": [
    "pwd"
   ]
  },
  {
   "cell_type": "code",
   "execution_count": 2,
   "metadata": {},
   "outputs": [
    {
     "data": {
      "image/png": "[encoded data removed]",
      "text/plain": [
       "<Figure size 648x432 with 5 Axes>"
      ]
     },
     "metadata": {
      "needs_background": "light"
     },
     "output_type": "display_data"
    }
   ],
   "source": [
    "import numpy as np\n",
    "import pandas as pd\n",
    "import matplotlib.pyplot as plt\n",
    "from matplotlib.ticker import ScalarFormatter\n",
    "import matplotlib.ticker as mtick\n",
    "import seaborn as sb\n",
    "from pylab import *\n",
    "from astropy.io import ascii\n",
    "from matplotlib.ticker import MaxNLocator\n",
    "plt.rcParams[\"font.size\"] = \"14\"\n",
    "\n",
    "# data2 = pd.read_csv('/home/swastik/Desktop/age.csv',error_bad_lines=False)\n",
    "\n",
    "bins_list4 = [1,2,4,8.5,17,37,80,200,450,1000,2200,5000,9000]\n",
    "bins_list2 = [1.50,2.4,3.9,6.0,9,14,21,31]\n",
    "bins_list1 = [1,2.5,10,37,140,500,1350,3600,10000]\n",
    "\n",
    "\n",
    "fig, ax = plt.subplots(2,2, figsize=(9,6),sharey = False)\n",
    "(ax1,ax4),(ax2,ax3)= ax\n",
    "ax5 = ax3.twiny()\n",
    "\n",
    "\n",
    "\n",
    "data1 = ascii.read(\"/home/swastik/Desktop/histdip.tbl\")  \n",
    "data2 = ascii.read(\"/home/swastik/Desktop/hist1.tbl\")  \n",
    "\n",
    "x = np.array([2600,4200,5500,6750,8250,10000])\n",
    "my_xticks = ['M','K','G','F','A','B']\n",
    "\n",
    "\n",
    "\n",
    "data1['fpl_bmasse'] = data1['fpl_bmasse']*0.00314558\n",
    "data2['fst_age'] = data2['fst_age']*1000\n",
    "\n",
    "ax1.hist(data1['fpl_smax'],bins = bins_list1,edgecolor='black',linewidth=1,color = 'r')\n",
    "# ax1.hist(data2['fpl_smax'],bins = bins_list1,color = 'yellow')\n",
    "ax1.axvline(x=5.2,linestyle = 'dotted',color ='black')\n",
    "ax4.hist(data1['fpl_bmasse'],edgecolor='black',linewidth=1,color='yellow')\n",
    "# ax2.hist(data2['fpl_bmasse'],bins = bins_list2,color='r')\n",
    "ax4.axvline(x=1,linestyle = 'dotted',color ='black')\n",
    "ax4.axvline(x=13,linestyle = 'dashed',color ='black')\n",
    "\n",
    "ax5.hist(data2['fst_teff'],edgecolor='black',linewidth=1,color = 'lime')\n",
    "ax3.hist(data2['fst_teff'],edgecolor='black',linewidth=1,color = 'lime')\n",
    "ax5.set_xticks(x)\n",
    "ax5.set_xticklabels(my_xticks, rotation='horizontal', fontsize=9)\n",
    "\n",
    "#ax3.hist(data1['fst_teff'],color = 'r')\n",
    "\n",
    "ax2.hist(data2['fst_age'],bins = bins_list4,edgecolor='black',linewidth=1,color='b')\n",
    "# ax4.hist(data2['fst_age'],bins = bins_list4,color='lime')\n",
    "\n",
    "ax1.set_ylabel('Planet Count',size=15)\n",
    "#ax2.set_ylabel('No of Planets',size=15)\n",
    "#ax3.set_ylabel('Star Count',size=15)\n",
    "ax2.set_ylabel('Star Count',size=15)\n",
    "#ax4.set_ylabel('Planet Count',size=15)\n",
    "\n",
    "#ax4.set_ylabel('No of Planets',size=15)\n",
    "ax1.set_xlabel('Orbital semi-major axis(AU)',size=15)\n",
    "ax4.set_xlabel('Mass ($M_{J})$',size=15)\n",
    "ax3.set_xlabel('Temperature(K)',size=15)\n",
    "ax2.set_xlabel('Age(Myr)',size=15)\n",
    "#ax4.set_xscale('log')\n",
    "ax4.set_xlim([-2, 30])\n",
    "ax1.set_xscale('log')\n",
    "ax2.set_xscale('log')\n",
    "ax1.yaxis.set_major_locator(MaxNLocator(integer=True))\n",
    "ax4.yaxis.set_major_locator(MaxNLocator(integer=True))\n",
    "ax3.yaxis.set_major_locator(MaxNLocator(integer=True))\n",
    "\n",
    "\n",
    "\n",
    "#ax1.set_yscale('log')\n",
    "#ax1.set_yscale('log')\n",
    "plt.tight_layout()"
   ]
  },
  {
   "cell_type": "code",
   "execution_count": null,
   "metadata": {},
   "outputs": [],
   "source": []
  }
 ],
 "metadata": {
  "kernelspec": {
   "display_name": "Python 3",
   "language": "python",
   "name": "python3"
  },
  "language_info": {
   "codemirror_mode": {
    "name": "ipython",
    "version": 3
   },
   "file_extension": ".py",
   "mimetype": "text/x-python",
   "name": "python",
   "nbconvert_exporter": "python",
   "pygments_lexer": "ipython3",
   "version": "3.8.3"
  }
 },
 "nbformat": 4,
 "nbformat_minor": 2
}
