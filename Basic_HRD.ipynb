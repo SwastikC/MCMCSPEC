{
 "cells": [
  {
   "cell_type": "code",
   "execution_count": 1,
   "metadata": {},
   "outputs": [],
   "source": [
    "from astropy.io import ascii\n",
    "import numpy as np\n",
    "data7 = ascii.read(\"/home/swastik/Downloads/res4.csv\") "
   ]
  },
  {
   "cell_type": "code",
   "execution_count": 4,
   "metadata": {},
   "outputs": [
    {
     "data": {
      "text/html": [
       "<i>Table length=68</i>\n",
       "<table id=\"table139803013470768\" class=\"table-striped table-bordered table-condensed\">\n",
       "<thead><tr><th>source_id</th><th>ra</th><th>dec</th><th>teff_val</th><th>lum_val</th><th>target_id</th><th>target_ra</th><th>target_dec</th><th>target_parallax</th><th>target_pm_ra</th><th>target_pm_dec</th><th>target_radial_velocity</th><th>target_distance</th></tr></thead>\n",
       "<thead><tr><th>int64</th><th>float64</th><th>float64</th><th>float64</th><th>float64</th><th>str23</th><th>float64</th><th>float64</th><th>float64</th><th>float64</th><th>float64</th><th>float64</th><th>float64</th></tr></thead>\n",
       "<tr><td>4056443366695974528</td><td>267.86708577522944</td><td>-29.876346757904958</td><td>--</td><td>--</td><td>OGLE-TR-10</td><td>267.8677458</td><td>-29.87645361</td><td>0.7214</td><td>0.499</td><td>-5.161</td><td>0.0</td><td>0.0005887791953450624</td></tr>\n",
       "<tr><td>4056443366649948160</td><td>267.8677482820352</td><td>-29.876475832639013</td><td>4637.04</td><td>0.92934716</td><td>OGLE-TR-10</td><td>267.8677458</td><td>-29.87645361</td><td>0.7214</td><td>0.499</td><td>-5.161</td><td>0.0</td><td>4.0616048826561956e-09</td></tr>\n",
       "<tr><td>4056443366694853888</td><td>267.86780435398</td><td>-29.877159363126403</td><td>--</td><td>--</td><td>OGLE-TR-10</td><td>267.8677458</td><td>-29.87645361</td><td>0.7214</td><td>0.499</td><td>-5.161</td><td>0.0</td><td>0.0006852594106765744</td></tr>\n",
       "<tr><td>4056443366696002944</td><td>267.8690939657476</td><td>-29.876456251073623</td><td>--</td><td>--</td><td>OGLE-TR-10</td><td>267.8677458</td><td>-29.87645361</td><td>0.7214</td><td>0.499</td><td>-5.161</td><td>0.0</td><td>0.0011670122367294495</td></tr>\n",
       "<tr><td>5242089296564780416</td><td>163.3241149586913</td><td>-61.40569761107204</td><td>4732.0</td><td>0.2595999</td><td>OGLE-TR-111</td><td>163.32419452</td><td>-61.40572399</td><td>0.9116</td><td>-8.844</td><td>6.128</td><td>0.0</td><td>5.5401704567234655e-09</td></tr>\n",
       "<tr><td>5242089296564787200</td><td>163.32405396144316</td><td>-61.40444918916315</td><td>--</td><td>--</td><td>OGLE-TR-111</td><td>163.32419452</td><td>-61.40572399</td><td>0.9116</td><td>-8.844</td><td>6.128</td><td>0.0</td><td>0.0012487576758458564</td></tr>\n",
       "<tr><td>5242089292257673728</td><td>163.32331479477946</td><td>-61.40578258863221</td><td>--</td><td>--</td><td>OGLE-TR-111</td><td>163.32419452</td><td>-61.40572399</td><td>0.9116</td><td>-8.844</td><td>6.128</td><td>0.0</td><td>0.0003922776341861925</td></tr>\n",
       "<tr><td>5242077854771196544</td><td>163.10103552456053</td><td>-61.44685910636759</td><td>4396.135</td><td>0.21999279</td><td>OGLE-TR-113</td><td>163.10117012</td><td>-61.44690164</td><td>1.7375</td><td>-14.942</td><td>9.878</td><td>0.0</td><td>3.332091512556866e-09</td></tr>\n",
       "<tr><td>5242077850463933696</td><td>163.10151505443318</td><td>-61.44620521717386</td><td>--</td><td>--</td><td>OGLE-TR-113</td><td>163.10117012</td><td>-61.44690164</td><td>1.7375</td><td>-14.942</td><td>9.878</td><td>0.0</td><td>0.0006929001205143175</td></tr>\n",
       "<tr><td>5242077854771192960</td><td>163.10103980759507</td><td>-61.44776518619461</td><td>4218.5</td><td>--</td><td>OGLE-TR-113</td><td>163.10117012</td><td>-61.44690164</td><td>1.7375</td><td>-14.942</td><td>9.878</td><td>0.0</td><td>0.0009060788525632464</td></tr>\n",
       "<tr><td>...</td><td>...</td><td>...</td><td>...</td><td>...</td><td>...</td><td>...</td><td>...</td><td>...</td><td>...</td><td>...</td><td>...</td><td>...</td></tr>\n",
       "<tr><td>2878641361299704832</td><td>359.1518633590354</td><td>36.21261813954265</td><td>--</td><td>--</td><td>2MASS J23563647+3612466</td><td>359.151996</td><td>36.212971</td><td>0.0</td><td>0.0</td><td>0.0</td><td>0.0</td><td>0.0003687322351819674</td></tr>\n",
       "<tr><td>2878641361300809856</td><td>359.1519715873216</td><td>36.21295622760908</td><td>5572.2095</td><td>3.1744454</td><td>2MASS J23563647+3612466</td><td>359.151996</td><td>36.212971</td><td>0.0</td><td>0.0</td><td>0.0</td><td>0.0</td><td>2.462087438133775e-05</td></tr>\n",
       "<tr><td>385697172809355392</td><td>4.859275019884554</td><td>44.027596497945645</td><td>4953.71</td><td>0.39586502</td><td>2MASS J00192622+4401395</td><td>4.859266</td><td>44.027641</td><td>0.0</td><td>0.0</td><td>0.0</td><td>0.0</td><td>4.497213012218557e-05</td></tr>\n",
       "<tr><td>382111248777193216</td><td>7.053937479492739</td><td>42.06134510985463</td><td>5419.25</td><td>1.0360708</td><td>2MASS J00281293+4203407</td><td>7.053898</td><td>42.061333</td><td>0.0</td><td>0.0</td><td>0.0</td><td>0.0</td><td>3.17137936070207e-05</td></tr>\n",
       "<tr><td>1265513389372846720</td><td>222.21023891229547</td><td>22.151287835173928</td><td>3862.0203</td><td>--</td><td>2MASS J14485047+2209093</td><td>222.21031864</td><td>22.15254465</td><td>9.8873</td><td>-51.908</td><td>16.02</td><td>-27.52</td><td>0.001334209394623372</td></tr>\n",
       "<tr><td>1265513389372846848</td><td>222.2100773326844</td><td>22.15261362725909</td><td>4888.73</td><td>0.3062302</td><td>2MASS J14485047+2209093</td><td>222.21031864</td><td>22.15254465</td><td>9.8873</td><td>-51.908</td><td>16.02</td><td>-27.52</td><td>2.3340339338367325e-09</td></tr>\n",
       "<tr><td>2878923523472328704</td><td>358.5151343578245</td><td>37.02182424385755</td><td>5790.0</td><td>2.6030245</td><td>2MASS J23540364+3701185</td><td>358.51516234</td><td>37.0218291</td><td>1.3884</td><td>-5.189</td><td>-1.129</td><td>-3.74</td><td>4.848909183901189e-09</td></tr>\n",
       "<tr><td>1048109222955337600</td><td>160.748094969636</td><td>60.96411936210351</td><td>4314.8</td><td>0.16087443</td><td>2MASS J10425960+6057510</td><td>160.74830557</td><td>60.96421096</td><td>4.649</td><td>-23.741</td><td>-21.274</td><td>0.0</td><td>2.2319486039231124e-09</td></tr>\n",
       "<tr><td>1076515002779544960</td><td>157.4123405390643</td><td>70.52708346072295</td><td>5732.2</td><td>1.7350804</td><td>2MASS J10293910+7031378</td><td>157.41294146</td><td>70.52712478</td><td>3.5238</td><td>-46.527</td><td>-9.597</td><td>5.06</td><td>2.2569476305136905e-09</td></tr>\n",
       "<tr><td>6048935358761628288</td><td>246.61679926283918</td><td>-25.446694998767043</td><td>3424.3333</td><td>0.17434186</td><td>ROXs 12</td><td>246.61683351999997</td><td>-25.446588</td><td>7.2894</td><td>-7.185</td><td>-24.851</td><td>-8.0</td><td>2.1694887046018052e-09</td></tr>\n",
       "</table>"
      ],
      "text/plain": [
       "<Table length=68>\n",
       "     source_id              ra         ...    target_distance    \n",
       "       int64             float64       ...        float64        \n",
       "------------------- ------------------ ... ----------------------\n",
       "4056443366695974528 267.86708577522944 ...  0.0005887791953450624\n",
       "4056443366649948160  267.8677482820352 ... 4.0616048826561956e-09\n",
       "4056443366694853888    267.86780435398 ...  0.0006852594106765744\n",
       "4056443366696002944  267.8690939657476 ...  0.0011670122367294495\n",
       "5242089296564780416  163.3241149586913 ... 5.5401704567234655e-09\n",
       "5242089296564787200 163.32405396144316 ...  0.0012487576758458564\n",
       "5242089292257673728 163.32331479477946 ...  0.0003922776341861925\n",
       "5242077854771196544 163.10103552456053 ...  3.332091512556866e-09\n",
       "5242077850463933696 163.10151505443318 ...  0.0006929001205143175\n",
       "5242077854771192960 163.10103980759507 ...  0.0009060788525632464\n",
       "                ...                ... ...                    ...\n",
       "2878641361299704832  359.1518633590354 ...  0.0003687322351819674\n",
       "2878641361300809856  359.1519715873216 ...  2.462087438133775e-05\n",
       " 385697172809355392  4.859275019884554 ...  4.497213012218557e-05\n",
       " 382111248777193216  7.053937479492739 ...   3.17137936070207e-05\n",
       "1265513389372846720 222.21023891229547 ...   0.001334209394623372\n",
       "1265513389372846848  222.2100773326844 ... 2.3340339338367325e-09\n",
       "2878923523472328704  358.5151343578245 ...  4.848909183901189e-09\n",
       "1048109222955337600   160.748094969636 ... 2.2319486039231124e-09\n",
       "1076515002779544960  157.4123405390643 ... 2.2569476305136905e-09\n",
       "6048935358761628288 246.61679926283918 ... 2.1694887046018052e-09"
      ]
     },
     "execution_count": 4,
     "metadata": {},
     "output_type": "execute_result"
    }
   ],
   "source": [
    "# data7['ra']\n",
    "# data7['dec']\n",
    "# data7 = data7[1000:2050]\n",
    "data7"
   ]
  },
  {
   "cell_type": "code",
   "execution_count": 43,
   "metadata": {},
   "outputs": [],
   "source": [
    "np.savetxt('GAIA3.csv',a,delimiter='\\t',fmt ='%.6f')"
   ]
  },
  {
   "cell_type": "code",
   "execution_count": 42,
   "metadata": {},
   "outputs": [],
   "source": [
    "a= np.column_stack((data7['teff_val'],data7['lum_val']))"
   ]
  },
  {
   "cell_type": "code",
   "execution_count": 45,
   "metadata": {},
   "outputs": [],
   "source": [
    "data7 = ascii.read(\"/home/swastik/Downloads/res1.csv\") "
   ]
  },
  {
   "cell_type": "code",
   "execution_count": 100,
   "metadata": {},
   "outputs": [
    {
     "data": {
      "text/plain": [
       "<matplotlib.collections.PathCollection at 0x7f904a4f62d0>"
      ]
     },
     "execution_count": 100,
     "metadata": {},
     "output_type": "execute_result"
    },
    {
     "data": {
      "image/png": "[encoded data removed]",
      "text/plain": [
       "<Figure size 432x288 with 1 Axes>"
      ]
     },
     "metadata": {
      "needs_background": "light"
     },
     "output_type": "display_data"
    }
   ],
   "source": [
    "plt.scatter(dff['Te'],dff['lum'])"
   ]
  },
  {
   "cell_type": "code",
   "execution_count": 6,
   "metadata": {},
   "outputs": [],
   "source": [
    "import matplotlib.pyplot as plt"
   ]
  },
  {
   "cell_type": "code",
   "execution_count": 92,
   "metadata": {},
   "outputs": [],
   "source": [
    "dff = dff[dff.Te > 1000]\n"
   ]
  },
  {
   "cell_type": "code",
   "execution_count": 34,
   "metadata": {},
   "outputs": [],
   "source": [
    "data7 = data7.filled(0)\n",
    "data7 = data7[data7['lum_val']!=0.0]"
   ]
  },
  {
   "cell_type": "code",
   "execution_count": 35,
   "metadata": {},
   "outputs": [],
   "source": [
    "data7['lum_val'] = np.log10(data7['lum_val'])"
   ]
  },
  {
   "cell_type": "code",
   "execution_count": 76,
   "metadata": {},
   "outputs": [],
   "source": [
    "import pandas as pd\n",
    "df = pd.read_csv('GAIA.csv', header = None,delimiter=\"\\t\")\n",
    "df1 = pd.read_csv('GAIA1.csv', header = None,delimiter=\"\\t\")\n",
    "df2 = pd.read_csv('GAIA2.csv', header = None,delimiter=\"\\t\")\n",
    "df3 = pd.read_csv('GAIA3.csv', header = None,delimiter=\"\\t\")\n",
    "df4 = pd.read_csv('GAIA4.csv', header = None,delimiter=\"\\t\")"
   ]
  },
  {
   "cell_type": "code",
   "execution_count": 77,
   "metadata": {},
   "outputs": [],
   "source": [
    "df.columns = [\"Te\", \"lum\"]\n",
    "df1.columns = [\"Te\", \"lum\"]\n",
    "df2.columns = [\"Te\", \"lum\"]\n",
    "df3.columns = [\"Te\", \"lum\"]\n",
    "df4.columns = [\"Te\", \"lum\"]"
   ]
  },
  {
   "cell_type": "code",
   "execution_count": 81,
   "metadata": {},
   "outputs": [],
   "source": [
    "dff = dff.append(df4,ignore_index=True)"
   ]
  },
  {
   "cell_type": "code",
   "execution_count": 82,
   "metadata": {},
   "outputs": [
    {
     "data": {
      "text/html": [
       "<div>\n",
       "<style scoped>\n",
       "    .dataframe tbody tr th:only-of-type {\n",
       "        vertical-align: middle;\n",
       "    }\n",
       "\n",
       "    .dataframe tbody tr th {\n",
       "        vertical-align: top;\n",
       "    }\n",
       "\n",
       "    .dataframe thead th {\n",
       "        text-align: right;\n",
       "    }\n",
       "</style>\n",
       "<table border=\"1\" class=\"dataframe\">\n",
       "  <thead>\n",
       "    <tr style=\"text-align: right;\">\n",
       "      <th></th>\n",
       "      <th>Te</th>\n",
       "      <th>lum</th>\n",
       "    </tr>\n",
       "  </thead>\n",
       "  <tbody>\n",
       "    <tr>\n",
       "      <td>0</td>\n",
       "      <td>4755.0000</td>\n",
       "      <td>2.133394</td>\n",
       "    </tr>\n",
       "    <tr>\n",
       "      <td>1</td>\n",
       "      <td>4248.7000</td>\n",
       "      <td>2.429514</td>\n",
       "    </tr>\n",
       "    <tr>\n",
       "      <td>2</td>\n",
       "      <td>4740.0000</td>\n",
       "      <td>1.752162</td>\n",
       "    </tr>\n",
       "    <tr>\n",
       "      <td>3</td>\n",
       "      <td>5282.0000</td>\n",
       "      <td>-0.150918</td>\n",
       "    </tr>\n",
       "    <tr>\n",
       "      <td>4</td>\n",
       "      <td>5777.2500</td>\n",
       "      <td>0.099860</td>\n",
       "    </tr>\n",
       "    <tr>\n",
       "      <td>...</td>\n",
       "      <td>...</td>\n",
       "      <td>...</td>\n",
       "    </tr>\n",
       "    <tr>\n",
       "      <td>3823</td>\n",
       "      <td>5928.0000</td>\n",
       "      <td>0.314684</td>\n",
       "    </tr>\n",
       "    <tr>\n",
       "      <td>3824</td>\n",
       "      <td>5838.0000</td>\n",
       "      <td>0.513255</td>\n",
       "    </tr>\n",
       "    <tr>\n",
       "      <td>3825</td>\n",
       "      <td>4879.0000</td>\n",
       "      <td>-0.129280</td>\n",
       "    </tr>\n",
       "    <tr>\n",
       "      <td>3826</td>\n",
       "      <td>4798.2563</td>\n",
       "      <td>-0.683523</td>\n",
       "    </tr>\n",
       "    <tr>\n",
       "      <td>3827</td>\n",
       "      <td>5839.2500</td>\n",
       "      <td>0.286853</td>\n",
       "    </tr>\n",
       "  </tbody>\n",
       "</table>\n",
       "<p>3828 rows × 2 columns</p>\n",
       "</div>"
      ],
      "text/plain": [
       "             Te       lum\n",
       "0     4755.0000  2.133394\n",
       "1     4248.7000  2.429514\n",
       "2     4740.0000  1.752162\n",
       "3     5282.0000 -0.150918\n",
       "4     5777.2500  0.099860\n",
       "...         ...       ...\n",
       "3823  5928.0000  0.314684\n",
       "3824  5838.0000  0.513255\n",
       "3825  4879.0000 -0.129280\n",
       "3826  4798.2563 -0.683523\n",
       "3827  5839.2500  0.286853\n",
       "\n",
       "[3828 rows x 2 columns]"
      ]
     },
     "execution_count": 82,
     "metadata": {},
     "output_type": "execute_result"
    }
   ],
   "source": [
    "dff"
   ]
  },
  {
   "cell_type": "code",
   "execution_count": 71,
   "metadata": {},
   "outputs": [
    {
     "data": {
      "text/html": [
       "<div>\n",
       "<style scoped>\n",
       "    .dataframe tbody tr th:only-of-type {\n",
       "        vertical-align: middle;\n",
       "    }\n",
       "\n",
       "    .dataframe tbody tr th {\n",
       "        vertical-align: top;\n",
       "    }\n",
       "\n",
       "    .dataframe thead th {\n",
       "        text-align: right;\n",
       "    }\n",
       "</style>\n",
       "<table border=\"1\" class=\"dataframe\">\n",
       "  <thead>\n",
       "    <tr style=\"text-align: right;\">\n",
       "      <th></th>\n",
       "      <th>Te</th>\n",
       "      <th>lum</th>\n",
       "    </tr>\n",
       "  </thead>\n",
       "  <tbody>\n",
       "    <tr>\n",
       "      <td>0</td>\n",
       "      <td>4755.00</td>\n",
       "      <td>2.133394</td>\n",
       "    </tr>\n",
       "    <tr>\n",
       "      <td>1</td>\n",
       "      <td>4248.70</td>\n",
       "      <td>2.429514</td>\n",
       "    </tr>\n",
       "    <tr>\n",
       "      <td>2</td>\n",
       "      <td>4740.00</td>\n",
       "      <td>1.752162</td>\n",
       "    </tr>\n",
       "    <tr>\n",
       "      <td>3</td>\n",
       "      <td>5282.00</td>\n",
       "      <td>-0.150918</td>\n",
       "    </tr>\n",
       "    <tr>\n",
       "      <td>4</td>\n",
       "      <td>5777.25</td>\n",
       "      <td>0.099860</td>\n",
       "    </tr>\n",
       "    <tr>\n",
       "      <td>...</td>\n",
       "      <td>...</td>\n",
       "      <td>...</td>\n",
       "    </tr>\n",
       "    <tr>\n",
       "      <td>1568</td>\n",
       "      <td>5612.10</td>\n",
       "      <td>0.254273</td>\n",
       "    </tr>\n",
       "    <tr>\n",
       "      <td>1569</td>\n",
       "      <td>5941.50</td>\n",
       "      <td>0.385407</td>\n",
       "    </tr>\n",
       "    <tr>\n",
       "      <td>1570</td>\n",
       "      <td>5339.30</td>\n",
       "      <td>-0.201121</td>\n",
       "    </tr>\n",
       "    <tr>\n",
       "      <td>1571</td>\n",
       "      <td>5830.50</td>\n",
       "      <td>0.086447</td>\n",
       "    </tr>\n",
       "    <tr>\n",
       "      <td>1572</td>\n",
       "      <td>4916.50</td>\n",
       "      <td>-0.377792</td>\n",
       "    </tr>\n",
       "  </tbody>\n",
       "</table>\n",
       "<p>1573 rows × 2 columns</p>\n",
       "</div>"
      ],
      "text/plain": [
       "           Te       lum\n",
       "0     4755.00  2.133394\n",
       "1     4248.70  2.429514\n",
       "2     4740.00  1.752162\n",
       "3     5282.00 -0.150918\n",
       "4     5777.25  0.099860\n",
       "...       ...       ...\n",
       "1568  5612.10  0.254273\n",
       "1569  5941.50  0.385407\n",
       "1570  5339.30 -0.201121\n",
       "1571  5830.50  0.086447\n",
       "1572  4916.50 -0.377792\n",
       "\n",
       "[1573 rows x 2 columns]"
      ]
     },
     "execution_count": 71,
     "metadata": {},
     "output_type": "execute_result"
    }
   ],
   "source": [
    "df"
   ]
  },
  {
   "cell_type": "code",
   "execution_count": 99,
   "metadata": {},
   "outputs": [],
   "source": [
    "dff.to_csv('GAIAEXOP.csv') "
   ]
  },
  {
   "cell_type": "code",
   "execution_count": 94,
   "metadata": {},
   "outputs": [
    {
     "data": {
      "text/html": [
       "<div>\n",
       "<style scoped>\n",
       "    .dataframe tbody tr th:only-of-type {\n",
       "        vertical-align: middle;\n",
       "    }\n",
       "\n",
       "    .dataframe tbody tr th {\n",
       "        vertical-align: top;\n",
       "    }\n",
       "\n",
       "    .dataframe thead th {\n",
       "        text-align: right;\n",
       "    }\n",
       "</style>\n",
       "<table border=\"1\" class=\"dataframe\">\n",
       "  <thead>\n",
       "    <tr style=\"text-align: right;\">\n",
       "      <th></th>\n",
       "      <th>Te</th>\n",
       "      <th>lum</th>\n",
       "    </tr>\n",
       "  </thead>\n",
       "  <tbody>\n",
       "    <tr>\n",
       "      <td>0</td>\n",
       "      <td>4755.0000</td>\n",
       "      <td>2.133394</td>\n",
       "    </tr>\n",
       "    <tr>\n",
       "      <td>1</td>\n",
       "      <td>4248.7000</td>\n",
       "      <td>2.429514</td>\n",
       "    </tr>\n",
       "    <tr>\n",
       "      <td>2</td>\n",
       "      <td>4740.0000</td>\n",
       "      <td>1.752162</td>\n",
       "    </tr>\n",
       "    <tr>\n",
       "      <td>3</td>\n",
       "      <td>5282.0000</td>\n",
       "      <td>-0.150918</td>\n",
       "    </tr>\n",
       "    <tr>\n",
       "      <td>4</td>\n",
       "      <td>5777.2500</td>\n",
       "      <td>0.099860</td>\n",
       "    </tr>\n",
       "    <tr>\n",
       "      <td>...</td>\n",
       "      <td>...</td>\n",
       "      <td>...</td>\n",
       "    </tr>\n",
       "    <tr>\n",
       "      <td>3823</td>\n",
       "      <td>5928.0000</td>\n",
       "      <td>0.314684</td>\n",
       "    </tr>\n",
       "    <tr>\n",
       "      <td>3824</td>\n",
       "      <td>5838.0000</td>\n",
       "      <td>0.513255</td>\n",
       "    </tr>\n",
       "    <tr>\n",
       "      <td>3825</td>\n",
       "      <td>4879.0000</td>\n",
       "      <td>-0.129280</td>\n",
       "    </tr>\n",
       "    <tr>\n",
       "      <td>3826</td>\n",
       "      <td>4798.2563</td>\n",
       "      <td>-0.683523</td>\n",
       "    </tr>\n",
       "    <tr>\n",
       "      <td>3827</td>\n",
       "      <td>5839.2500</td>\n",
       "      <td>0.286853</td>\n",
       "    </tr>\n",
       "  </tbody>\n",
       "</table>\n",
       "<p>3789 rows × 2 columns</p>\n",
       "</div>"
      ],
      "text/plain": [
       "             Te       lum\n",
       "0     4755.0000  2.133394\n",
       "1     4248.7000  2.429514\n",
       "2     4740.0000  1.752162\n",
       "3     5282.0000 -0.150918\n",
       "4     5777.2500  0.099860\n",
       "...         ...       ...\n",
       "3823  5928.0000  0.314684\n",
       "3824  5838.0000  0.513255\n",
       "3825  4879.0000 -0.129280\n",
       "3826  4798.2563 -0.683523\n",
       "3827  5839.2500  0.286853\n",
       "\n",
       "[3789 rows x 2 columns]"
      ]
     },
     "execution_count": 94,
     "metadata": {},
     "output_type": "execute_result"
    }
   ],
   "source": [
    "dff"
   ]
  },
  {
   "cell_type": "code",
   "execution_count": 97,
   "metadata": {},
   "outputs": [
    {
     "data": {
      "text/html": [
       "<div>\n",
       "<style scoped>\n",
       "    .dataframe tbody tr th:only-of-type {\n",
       "        vertical-align: middle;\n",
       "    }\n",
       "\n",
       "    .dataframe tbody tr th {\n",
       "        vertical-align: top;\n",
       "    }\n",
       "\n",
       "    .dataframe thead th {\n",
       "        text-align: right;\n",
       "    }\n",
       "</style>\n",
       "<table border=\"1\" class=\"dataframe\">\n",
       "  <thead>\n",
       "    <tr style=\"text-align: right;\">\n",
       "      <th></th>\n",
       "      <th>Te</th>\n",
       "      <th>lum</th>\n",
       "    </tr>\n",
       "  </thead>\n",
       "  <tbody>\n",
       "    <tr>\n",
       "      <td>0</td>\n",
       "      <td>4755.0000</td>\n",
       "      <td>2.133394</td>\n",
       "    </tr>\n",
       "    <tr>\n",
       "      <td>1</td>\n",
       "      <td>4248.7000</td>\n",
       "      <td>2.429514</td>\n",
       "    </tr>\n",
       "    <tr>\n",
       "      <td>2</td>\n",
       "      <td>4740.0000</td>\n",
       "      <td>1.752162</td>\n",
       "    </tr>\n",
       "    <tr>\n",
       "      <td>3</td>\n",
       "      <td>5282.0000</td>\n",
       "      <td>-0.150918</td>\n",
       "    </tr>\n",
       "    <tr>\n",
       "      <td>4</td>\n",
       "      <td>5777.2500</td>\n",
       "      <td>0.099860</td>\n",
       "    </tr>\n",
       "    <tr>\n",
       "      <td>...</td>\n",
       "      <td>...</td>\n",
       "      <td>...</td>\n",
       "    </tr>\n",
       "    <tr>\n",
       "      <td>3823</td>\n",
       "      <td>5928.0000</td>\n",
       "      <td>0.314684</td>\n",
       "    </tr>\n",
       "    <tr>\n",
       "      <td>3824</td>\n",
       "      <td>5838.0000</td>\n",
       "      <td>0.513255</td>\n",
       "    </tr>\n",
       "    <tr>\n",
       "      <td>3825</td>\n",
       "      <td>4879.0000</td>\n",
       "      <td>-0.129280</td>\n",
       "    </tr>\n",
       "    <tr>\n",
       "      <td>3826</td>\n",
       "      <td>4798.2563</td>\n",
       "      <td>-0.683523</td>\n",
       "    </tr>\n",
       "    <tr>\n",
       "      <td>3827</td>\n",
       "      <td>5839.2500</td>\n",
       "      <td>0.286853</td>\n",
       "    </tr>\n",
       "  </tbody>\n",
       "</table>\n",
       "<p>2758 rows × 2 columns</p>\n",
       "</div>"
      ],
      "text/plain": [
       "             Te       lum\n",
       "0     4755.0000  2.133394\n",
       "1     4248.7000  2.429514\n",
       "2     4740.0000  1.752162\n",
       "3     5282.0000 -0.150918\n",
       "4     5777.2500  0.099860\n",
       "...         ...       ...\n",
       "3823  5928.0000  0.314684\n",
       "3824  5838.0000  0.513255\n",
       "3825  4879.0000 -0.129280\n",
       "3826  4798.2563 -0.683523\n",
       "3827  5839.2500  0.286853\n",
       "\n",
       "[2758 rows x 2 columns]"
      ]
     },
     "execution_count": 97,
     "metadata": {},
     "output_type": "execute_result"
    }
   ],
   "source": [
    "dff.drop_duplicates(subset=None, keep='first', inplace=False)"
   ]
  },
  {
   "cell_type": "code",
   "execution_count": null,
   "metadata": {},
   "outputs": [],
   "source": []
  }
 ],
 "metadata": {
  "kernelspec": {
   "display_name": "Python 3",
   "language": "python",
   "name": "python3"
  },
  "language_info": {
   "codemirror_mode": {
    "name": "ipython",
    "version": 3
   },
   "file_extension": ".py",
   "mimetype": "text/x-python",
   "name": "python",
   "nbconvert_exporter": "python",
   "pygments_lexer": "ipython3",
   "version": "3.8.3"
  }
 },
 "nbformat": 4,
 "nbformat_minor": 2
}
