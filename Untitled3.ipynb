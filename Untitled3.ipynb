{
 "cells": [
  {
   "cell_type": "code",
   "execution_count": 9,
   "metadata": {},
   "outputs": [
    {
     "data": {
      "text/plain": [
       "array([[-1.87306671e+02, -1.00814748e-01, -5.42629937e-02,\n",
       "         1.10459123e-01],\n",
       "       [-3.32293067e+01, -8.76440838e-01, -1.11524755e+00,\n",
       "        -1.00589546e-01],\n",
       "       [-9.89973379e+00, -4.42350982e-01, -2.30506549e-03,\n",
       "         1.53719742e-01],\n",
       "       ...,\n",
       "       [-1.60488216e+01, -5.55254614e-02,  2.77715578e-01,\n",
       "        -1.93942220e-01],\n",
       "       [ 1.41794981e+02,  3.57453061e-01,  3.08343382e-01,\n",
       "        -2.56607697e-01],\n",
       "       [-3.93570314e+01, -6.62265023e-01, -2.04439781e-01,\n",
       "         4.58320678e-01]])"
      ]
     },
     "execution_count": 9,
     "metadata": {},
     "output_type": "execute_result"
    }
   ],
   "source": [
    "import numpy as np\n",
    "walkers =10000\n",
    "np.array([100,0.5,0.5,0.3])*np.random.randn(walkers, 4)"
   ]
  },
  {
   "cell_type": "code",
   "execution_count": null,
   "metadata": {},
   "outputs": [],
   "source": []
  },
  {
   "cell_type": "code",
   "execution_count": null,
   "metadata": {},
   "outputs": [],
   "source": []
  }
 ],
 "metadata": {
  "kernelspec": {
   "display_name": "Python 3",
   "language": "python",
   "name": "python3"
  },
  "language_info": {
   "codemirror_mode": {
    "name": "ipython",
    "version": 3
   },
   "file_extension": ".py",
   "mimetype": "text/x-python",
   "name": "python",
   "nbconvert_exporter": "python",
   "pygments_lexer": "ipython3",
   "version": "3.8.3"
  }
 },
 "nbformat": 4,
 "nbformat_minor": 4
}
