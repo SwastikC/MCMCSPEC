{
 "cells": [
  {
   "cell_type": "code",
   "execution_count": 12,
   "metadata": {},
   "outputs": [
    {
     "name": "stdout",
     "output_type": "stream",
     "text": [
      "Enter Temp5378\n",
      "Enter logg4.44\n",
      "Enter logg-0.05\n",
      "0.9317959887958193 0.9533996929652025\n"
     ]
    }
   ],
   "source": [
    "import numpy as np\n",
    "teff = float(input(\"Enter Temp\"))\n",
    "logg = float(input(\"Enter logg\"))\n",
    "feh = float(input(\"Enter logg\"))\n",
    "\n",
    "\n",
    "    # Torres et al. 2010: Table 4 (Page 110) Coefficients for the calibration equations\n",
    "a = (1.5689, 1.3787, 0.4243, 1.139, -0.14250, 0.01969, 0.10100)\n",
    "b = (2.4427, 0.6679, 0.1771, 0.705, -0.21415, 0.02306, 0.04173)\n",
    "\n",
    "    # Teff and logg: http://vizier.cfa.harvard.edu/viz-bin/VizieR-3?-source=J/other/A%2bARV/18.67/table1\n",
    "# if teff > 38000 or teff < 3120:\n",
    "#         logging.warn(\"Teff {} is out of the Teff range used to derive the empirical relation\".format(teff))\n",
    "#     if logg > 5.009 or logg < 2.122:\n",
    "#         logging.warn(\"logg {} is out of the logg range used to derive the empirical relation\".format(logg))\n",
    "#     # Metallicities: http://vizier.cfa.harvard.edu/viz-bin/VizieR-3?-source=J/other/A%2bARV/18.67/table2\n",
    "#     if feh > 0.40 or feh < -0.60:\n",
    "#         logging.warn(\"Metallicity {} is out of the metallicity range used to derive the empirical relation\".format(feh))\n",
    "\n",
    "X = np.log10(teff) - 4.1\n",
    "\n",
    "log_mass = a[0] + a[1]*X + a[2]*X**2 + a[3]*X**3 + a[4]*logg**2 + a[5]*logg**3 + a[6]*feh\n",
    "log_radius = b[0] + b[1]*X + b[2]*X**2 + b[3]*X**3 + b[4]*logg**2 + b[5]*logg**3 + b[6]*feh\n",
    "mass = 10**log_mass # M_SUN\n",
    "radius = 10**log_radius # R_SUN\n",
    "print (mass,radius)"
   ]
  },
  {
   "cell_type": "code",
   "execution_count": 7,
   "metadata": {},
   "outputs": [
    {
     "data": {
      "text/plain": [
       "0.5667"
      ]
     },
     "execution_count": 7,
     "metadata": {},
     "output_type": "execute_result"
    }
   ],
   "source": [
    "(0.5614+0.572)/2"
   ]
  },
  {
   "cell_type": "code",
   "execution_count": 8,
   "metadata": {},
   "outputs": [
    {
     "data": {
      "text/plain": [
       "0.39266666666666666"
      ]
     },
     "execution_count": 8,
     "metadata": {},
     "output_type": "execute_result"
    }
   ],
   "source": [
    "(0.396+0.382+0.40)/3"
   ]
  },
  {
   "cell_type": "code",
   "execution_count": null,
   "metadata": {},
   "outputs": [],
   "source": []
  }
 ],
 "metadata": {
  "kernelspec": {
   "display_name": "Python 3",
   "language": "python",
   "name": "python3"
  },
  "language_info": {
   "codemirror_mode": {
    "name": "ipython",
    "version": 3
   },
   "file_extension": ".py",
   "mimetype": "text/x-python",
   "name": "python",
   "nbconvert_exporter": "python",
   "pygments_lexer": "ipython3",
   "version": "3.7.4"
  }
 },
 "nbformat": 4,
 "nbformat_minor": 2
}
