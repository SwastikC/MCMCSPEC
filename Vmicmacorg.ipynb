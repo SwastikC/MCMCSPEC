{
 "cells": [
  {
   "cell_type": "code",
   "execution_count": 2,
   "metadata": {},
   "outputs": [
    {
     "name": "stdout",
     "output_type": "stream",
     "text": [
      "Enter Teff: 6655\n",
      "log g: 4\n",
      "[M/H]: 0\n",
      "vmic : 1.54\n",
      "vmac : 10.68\n"
     ]
    }
   ],
   "source": [
    "teff = float(input('Enter Teff: '))\n",
    "logg = float(input('log g: '))\n",
    "feh = float(input('[M/H]: '))\n",
    "\n",
    "t0 = 5500\n",
    "g0 = 4.0\n",
    "\n",
    "if logg >= 3.5:\n",
    "    if teff >= 5000:\n",
    "            # main sequence and subgiants (RGB)\n",
    "            vmic = 1.05 + 2.51e-4*(teff-t0) + 1.5e-7*(teff-t0)**2 - 0.14*(logg-g0) - 0.05e-1*(logg-g0)**2 + 0.05*feh + 0.01*feh**2\n",
    "            vmac = 3*(1.15 + 7e-4*(teff-t0) + 1.2e-6*(teff-t0)**2 - 0.13*(logg-g0) + 0.13*(logg-g0)**2 - 0.37*feh - 0.07*feh**2)\n",
    "\n",
    "    else:\n",
    "            # main sequence\n",
    "            vmic = 1.05 + 2.51e-4*(5000-t0) + 1.5e-7*(5000-t0)**2 - 0.14*(logg-g0) - 0.05e-1*(logg-g0)**2 + 0.05*feh + 0.01*feh**2\n",
    "            vmac = 3*(1.15 + 2e-4*(teff-t0) + 3.95e-7*(teff-t0)**2 - 0.13*(logg-g0) + 0.13*(logg-g0)**2)\n",
    "\n",
    "            \n",
    "else:\n",
    "        # giants (RGB/AGB)\n",
    "        vmic = 1.25 + 4.01e-4*(teff-t0) + 3.1e-7*(teff-t0)**2 - 0.14*(logg-g0) - 0.05e-1*(logg-g0)**2 + 0.05*feh + 0.01*feh**2\n",
    "        vmac = 3*(1.15 + 2.2e-5*(teff-t0) - 0.5e-7*(teff-t0)**2 - 0.1*(logg-g0) + 0.04*(logg-g0)**2 - 0.37*feh - 0.07*feh**2)\n",
    "\n",
    "        \n",
    "vmic = float(\"%.2f\" % vmic)\n",
    "vmac = float(\"%.2f\" % vmac)\n",
    "\n",
    "\n",
    "print (\"vmic :\",vmic)\n",
    "print (\"vmac :\",vmac)"
   ]
  },
  {
   "cell_type": "markdown",
   "metadata": {},
   "source": [
    "###### pwd"
   ]
  },
  {
   "cell_type": "code",
   "execution_count": 2,
   "metadata": {},
   "outputs": [],
   "source": [
    "def plotDistanceMap(self):\n",
    "    # Read on x,y,z\n",
    "    x = self.currentGraph['xData']\n",
    "    y = self.currentGraph['yData']\n",
    "    X, Y = numpy.meshgrid(x, y)\n",
    "    Z = self.currentGraph['zData']\n",
    "    # Define colormap\n",
    "    cmap = colors.ListedColormap(['blue', 'green', 'orange', 'red'])\n",
    "    cmap.set_under('white')\n",
    "    cmap.set_over('white')\n",
    "    bounds = [1,15,50,80,100]\n",
    "    norm = colors.BoundaryNorm(bounds, cmap.N)\n",
    "    # Draw surface plot\n",
    "    img = self.axes.pcolor(X, Y, Z, cmap=cmap, norm=norm)\n",
    "    self.axes.set_xlim(x.min(), x.max())\n",
    "    self.axes.set_ylim(y.min(), y.max())\n",
    "    self.axes.set_xlabel(self.currentGraph['xTitle'])\n",
    "    self.axes.set_ylabel(self.currentGraph['yTitle'])\n",
    "    # Cosmetics\n",
    "    #matplotlib.rcParams.update({'font.size': 12})\n",
    "    xminorLocator = MultipleLocator(10)\n",
    "    yminorLocator = MultipleLocator(10)\n",
    "    self.axes.xaxis.set_minor_locator(xminorLocator)\n",
    "    self.axes.yaxis.set_minor_locator(yminorLocator)\n",
    "    self.axes.tick_params(direction='out', length=6, width=1)\n",
    "    self.axes.tick_params(which='minor', direction='out', length=3, width=1)\n",
    "    self.axes.xaxis.labelpad = 15\n",
    "    self.axes.yaxis.labelpad = 15\n",
    "    # Draw colorbar\n",
    "    colorbar = self.figure.colorbar(img, boundaries = [0,1,15,50,80,100], \n",
    "                                    spacing = 'proportional',\n",
    "                                    ticks = [15,50,80,100], \n",
    "                                    extend = 'both')\n",
    "    colorbar.ax.set_xlabel('Angstrom')\n",
    "    colorbar.ax.xaxis.set_label_position('top')\n",
    "    colorbar.ax.xaxis.labelpad = 20\n",
    "    self.figure.tight_layout()      \n",
    "    self.canvas.draw()"
   ]
  },
  {
   "cell_type": "code",
   "execution_count": 28,
   "metadata": {},
   "outputs": [
    {
     "name": "stdout",
     "output_type": "stream",
     "text": [
      "Enter Teff: 7339\n",
      "log g: 4.19\n",
      "12.229148\n"
     ]
    }
   ],
   "source": [
    "teff = float(input('Enter Teff: '))\n",
    "logg = float(input('log g: '))\n",
    "# feh = float(input('[M/H]: '))\n",
    "t1 = 5777\n",
    "vmac = 3.21+2.33*0.001*1*(teff-5777)+2.00*10**(-6.0)*(teff-5777)**(2)-2.00*(logg-4.44)\n",
    "print(vmac)"
   ]
  },
  {
   "cell_type": "code",
   "execution_count": 31,
   "metadata": {},
   "outputs": [
    {
     "name": "stdout",
     "output_type": "stream",
     "text": [
      "1.96\n"
     ]
    }
   ],
   "source": [
    "t0 = 5500\n",
    "g0 = 4.0\n",
    "\n",
    "if logg >= 3.5:\n",
    "    if teff >= 5000:\n",
    "            # main sequence and subgiants (RGB)\n",
    "        vmic = 1.05 + 2.51e-4*(teff-t0) + 1.5e-7*(teff-t0)**2 - 0.14*(logg-g0) - 0.05e-1*(logg-g0)**2 + 0.05*feh + 0.01*feh**2\n",
    "    else:\n",
    "            # main sequence\n",
    "        vmic = 1.05 + 2.51e-4*(5000-t0) + 1.5e-7*(5000-t0)**2 - 0.14*(logg-g0) - 0.05e-1*(logg-g0)**2 + 0.05*feh + 0.01*feh**2\n",
    "else:\n",
    "        # giants (RGB/AGB)\n",
    "    vmic = 1.25 + 4.01e-4*(teff-t0) + 3.1e-7*(teff-t0)**2 - 0.14*(logg-g0) - 0.05e-1*(logg-g0)**2 + 0.05*feh + 0.01*feh**2\n",
    "vmic = float(\"%.2f\" % vmic)\n",
    "print(vmic)    "
   ]
  },
  {
   "cell_type": "code",
   "execution_count": 35,
   "metadata": {},
   "outputs": [
    {
     "name": "stdout",
     "output_type": "stream",
     "text": [
      "20.06\n"
     ]
    }
   ],
   "source": [
    "t0 = 5500\n",
    "g0 = 4.0\n",
    "\n",
    "if logg >= 3.5:\n",
    "    if teff >= 5000:\n",
    "            # main sequence and subgiants (RGB)\n",
    "        vmac = 3*(1.15 + 7e-4*(teff-t0) + 1.2e-6*(teff-t0)**2 - 0.13*(logg-g0) + 0.13*(logg-g0)**2 - 0.37*feh - 0.07*feh**2)\n",
    "    else:\n",
    "            # main sequence\n",
    "        vmac = 3*(1.15 + 2e-4*(teff-t0) + 3.95e-7*(teff-t0)**2 - 0.13*(logg-g0) + 0.13*(logg-g0)**2)\n",
    "else:\n",
    "        # giants (RGB/AGB)\n",
    "    vmac = 3*(1.15 + 2.2e-5*(teff-t0) - 0.5e-7*(teff-t0)**2 - 0.1*(logg-g0) + 0.04*(logg-g0)**2 - 0.37*feh - 0.07*feh**2)\n",
    "\n",
    "vmac = float(\"%.2f\" % vmac)\n",
    "print(vmac)"
   ]
  },
  {
   "cell_type": "code",
   "execution_count": null,
   "metadata": {},
   "outputs": [],
   "source": []
  }
 ],
 "metadata": {
  "kernelspec": {
   "display_name": "Python 3",
   "language": "python",
   "name": "python3"
  },
  "language_info": {
   "codemirror_mode": {
    "name": "ipython",
    "version": 3
   },
   "file_extension": ".py",
   "mimetype": "text/x-python",
   "name": "python",
   "nbconvert_exporter": "python",
   "pygments_lexer": "ipython3",
   "version": "3.8.3"
  }
 },
 "nbformat": 4,
 "nbformat_minor": 2
}
